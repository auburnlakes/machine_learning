{
 "cells": [
  {
   "cell_type": "markdown",
   "metadata": {
    "deletable": false,
    "editable": false,
    "nbgrader": {
     "checksum": "b2969e560496bd8105480ba5dac81391",
     "grade": false,
     "grade_id": "cell-3baa72d698526cb5",
     "locked": true,
     "schema_version": 1,
     "solution": false
    }
   },
   "source": [
    "<h2>About this Project</h2>\n",
    "<p>In this project, you will use naive bayes to build a baby name classifier. Your classifier will use the features commonly found in names to distinguish whether a name is likely to be given to a baby girl or boy. You'll train your classifier to identify these certain qualities of names and classify new examples based on those qualities.</p>\n",
    "\n",
    "<h3>Evaluation</h3>\n",
    "\n",
    "<p><strong>This project must be successfully completed and submitted in order to receive credit for this course. Your score on this project will be included in your final grade calculation.</strong><p>\n",
    "    \n",
    "<p>You are expected to write code where you see <em># YOUR CODE HERE</em> within the cells of this notebook. Not all cells will be graded; code input cells followed by cells marked with <em>#Autograder test cell</em> will be graded. Upon submitting your work, the code you write at these designated positions will be assessed using an \"autograder\" that will run all test cells to assess your code. You will receive feedback from the autograder that will identify any errors in your code. Use this feedback to improve your code if you need to resubmit. Be sure not to change the names of any provided functions, classes, or variables within the existing code cells, as this will interfere with the autograder. Also, remember to execute all code cells sequentially, not just those you’ve edited, to ensure your code runs properly.</p>\n",
    "    \n",
    "<p>You can resubmit your work as many times as necessary before the submission deadline. If you experience difficulty or have questions about this exercise, use the Q&A discussion board (found in the Live Labs section of this course) to engage with your peers or seek assistance from the instructor.<p>\n",
    "\n",
    "<p>Before starting your work, please review <a href=\"https://s3.amazonaws.com/ecornell/global/eCornellPlagiarismPolicy.pdf\">eCornell's policy regarding plagiarism</a> (the presentation of someone else's work as your own without source credit).</p>\n",
    "\n",
    "<h3>Submit Code for Autograder Feedback</h3>\n",
    "\n",
    "<p>Once you have completed your work on this notebook, you will submit your code for autograder review. Follow these steps:</p>\n",
    "\n",
    "<ol>\n",
    "    <li><strong>Save your notebook —</strong> Click <strong>Save and Checkpoint</strong> in the \"File\" menu.</li>\n",
    "  <li><strong>Mark as Completed —</strong> In the blue menu bar along the top of this code exercise window, you’ll see a menu item called <strong>Education</strong>. In the <strong>Education</strong> menu, click <strong>Mark as Completed</strong> to submit your code for autograder/instructor review. This process will take a moment and a progress bar will show you the status of your submission.</li>\n",
    "\t<li><strong>Review your results —</strong> Once your work is marked as complete, the results of the autograder will automatically be presented in a new tab within the code exercise window. You can click on the assessment name in this feedback window to see more details regarding specific feedback/errors in your code submission.</li>\n",
    "  <li><strong>Repeat, if necessary —</strong> The Jupyter notebook will always remain accessible in the first tabbed window of the exercise. To reattempt the work, you will first need to click <strong>Mark as Uncompleted</strong> in the <strong>Education</strong> menu and then proceed to make edits to the notebook. Once you are ready to resubmit, follow steps one through three. You can repeat this procedure as many times as necessary.</li>\n",
    "</ol>"
   ]
  },
  {
   "cell_type": "markdown",
   "metadata": {
    "deletable": false,
    "editable": false,
    "nbgrader": {
     "checksum": "49a4a4566d4ab67c17f89c8d79fb29a4",
     "grade": false,
     "grade_id": "cell-30dffab85bf9ce51",
     "locked": true,
     "schema_version": 1,
     "solution": false
    }
   },
   "source": [
    "<h2>Getting Started</h2>\n",
    "<h3>Prepare Text for Machine Learning </h3>\n",
    "\n",
    "<p> If we are to create a classifier for text, we'll first need to think about the format of our data. Take a look at the files <code>girls.train</code> and <code>boys.train</code>. For example with the unix command: <pre>cat girls.train</pre> \n",
    "<pre>\n",
    "...\n",
    "Addisyn\n",
    "Danika\n",
    "Emilee\n",
    "Aurora\n",
    "Julianna\n",
    "Sophia\n",
    "Kaylyn\n",
    "Litzy\n",
    "Hadassah\n",
    "</pre>\n",
    "This file contains names that are more or less commonly used for girls. The problem with the current data in this file is that the names are in plain text, which is not a format our machine learning algorithm can work with effectively. You need to transform these plain text names into some vector format, where each name becomes a vector that represents a point in some high dimensional input space. </p>\n",
    "\n",
    "<p>That is exactly what the following Python function <code>name2features</code> does, by arbitrarily chunking and hashing different string extractions from each baby name inputted, thus transforming the string into a quantitative feature vector:</p>"
   ]
  },
  {
   "cell_type": "markdown",
   "metadata": {
    "deletable": false,
    "editable": false,
    "nbgrader": {
     "checksum": "dbf63747338c3bc801a52729939be2b7",
     "grade": false,
     "grade_id": "cell-714117928030f1f1",
     "locked": true,
     "schema_version": 1,
     "solution": false
    }
   },
   "source": [
    "<h3>Python Initialization</h3>\n",
    "<p>Please run the following code to initialize your Python kernel. You should be running a version of Python 3.x.<p>"
   ]
  },
  {
   "cell_type": "code",
   "execution_count": 38,
   "metadata": {},
   "outputs": [
    {
     "name": "stdout",
     "output_type": "stream",
     "text": [
      "You're running python 3.6.8\n"
     ]
    }
   ],
   "source": [
    "import sys\n",
    "sys.path.append('/home/codio/workspace/.guides/hf')\n",
    "from helper import *\n",
    "\n",
    "import numpy as np\n",
    "import pandas as pd\n",
    "import seaborn as sns\n",
    "import matplotlib.pyplot as plt\n",
    "\n",
    "%matplotlib inline\n",
    "print('You\\'re running python %s' % sys.version.split(' ')[0])"
   ]
  },
  {
   "cell_type": "markdown",
   "metadata": {
    "deletable": false,
    "editable": false
   },
   "source": [
    "### The <code>hashfeatures</code> and <code>name2features</code> Functions\n",
    "Below, the <code>hashfeatures</code> and <code>name2features</code> functions will take the plain text names and convert them to binary feature vectors (vectors with 0s and 1s) so that you'll be able to work with the data effectively.  \n",
    "\n",
    "#### Converting non-numeric training data to numeric vectors\n",
    "The `hashfeatures` function relies on Python's [inbuilt `hash` function](https://docs.python.org/3/library/functions.html#hash), which converts any data type in Python to a large integer. The `hash` function ensures that the same objects have the same hash output in _a single Python session_. Across different Python sessions, you can ensure `hash` outputs the same integer for the same objects by seeding it.\n",
    "\n",
    "In our case, `hash` will convert string objects to integers, which we will \"truncate\" to our desired dimension `d`.\n",
    "\n",
    "`hashfeatures` has been implemented for you. It works as follows: It splits the `baby` name `FIX` times such that split `0 < m <= FIX` gives 2 strings. The first is a prefix of `baby` of length `m` and the second is the suffix of `baby` of length `m`.\n",
    "\n",
    "For example, with `debug=True`, calling `hashfeatures` on `Addisyn` with `d=128` and `FIX=3` will give strings:\n",
    "- `(A>, <n)`\n",
    "- `(Ad>, <yn)`\n",
    "- `(Add>, <syn)`\n",
    "\n",
    "Let's call each split's output `(prefix, suffix)`. `hashfeatures` then converts both prefix and suffix to large integers `P` and `S` using `hash`. However, since we need a binary feature vector of `d` dimensions, `hashfeatures` takes the remainder of `P` and `S` with `d`, and sets the (`P % d`)<sup>th</sup> and (`S % d`)<sup>th</sup> dimensions of the feature vector to 1.\n",
    "\n",
    "We define the `hashfeatures` function to output binary vectors, but they need not be binary; they can also have floating point values. In the **Challenge** section later in this assignment, you will be able to try your own `name2features` function to improve the model's performance."
   ]
  },
  {
   "cell_type": "code",
   "execution_count": 39,
   "metadata": {},
   "outputs": [],
   "source": [
    "def hashfeatures(baby, d, FIX, debug=False):\n",
    "    \"\"\"\n",
    "    Input:\n",
    "        baby : a string representing the baby's name to be hashed\n",
    "        d: the number of dimensions to be in the feature vector\n",
    "        FIX: the number of chunks to extract and hash from each string\n",
    "        debug: a bool for printing debug values (default False)\n",
    "    \n",
    "    Output:\n",
    "        v: a feature vector representing the input string\n",
    "    \"\"\"\n",
    "    v = np.zeros(d)\n",
    "    for m in range(1, FIX+1):\n",
    "        prefix = baby[:m] + \">\"\n",
    "        P = hash(prefix) % d\n",
    "        v[P] = 1\n",
    "        \n",
    "        suffix = \"<\" + baby[-m:]\n",
    "        S = hash(suffix) % d\n",
    "        v[S] = 1\n",
    "        \n",
    "        if debug:\n",
    "            print(f\"Split {m}/{FIX}:\\t({prefix}, {suffix}),\\t1s at indices [{P}, {S}]\")\n",
    "    if debug:\n",
    "        print(f\"Feature vector for {baby}:\\n{v.astype(int)}\\n\")\n",
    "    return v"
   ]
  },
  {
   "cell_type": "markdown",
   "metadata": {
    "deletable": false,
    "editable": false
   },
   "source": [
    "#### Changing `hashfeatures` arguments\n",
    "\n",
    "\n",
    "##### Changing `d`\n",
    "It is likely that different strings get hashed to different numbers, but trigger the same dimension in the feature vector to be 1, thus causing **collisions**. This is because the length of our feature vector `d` is generally much smaller than the magnitudes of `hash` outputs. We can reduce the number of collisions by increasing `d` and reducing the likelihood of `P % d` or `S % d` for different strings being equal. If `FIX` is left unchanged, then short `baby` names will trigger fewer dimensions of this longer feature vector, resulting in sparsity. Although the resulting vectors are more _expressive_, we will likely face the curse of dimensionality if we carelessly increase `d`. Moreover, if the model is also expressive enough, expressive feature vectors often result in **model overfitting**: model not generalizing well to unseen test data because it fits training data almost _too_ well.\n",
    "\n",
    "On the other hand, reducing `d` causes the number of collisions to generally increase by increasing the likelihood of `P % d` or `S % d` of different strings to be equal. This creates dense vectors that are not very expressive (feature vectors for different baby names will start having 1s in the same dimensions as `d` decreases). When feature vectors are not very expressive, it becomes difficult for models to learn classification boundaries between different classes, causing **model underfitting**: model not generalizing well to unseen test data because it cannot learn decision boundaries effectively.\n",
    "\n",
    "##### Changing `FIX`\n",
    "On the lines of overfitting and underfitting, take some time and think what the effect of changing `FIX` will be on feature vector density, and possibly model performance down-the-road.\n",
    "\n",
    "In the trivial case, we do not want `FIX` to be very large. If `FIX` is larger than the length of `baby` name, then we will be running the loop in `hashfeatures` for extra iterations but computing the same prefixes and suffixes (running `Max` with `FIX=5` will give `(Max>, <Max)` for iterations `m=3` onwards.\n",
    "\n",
    "The non-trivial case is when `FIX` is generally smaller than lengths of most `baby` names. `FIX=1` will only split once and give sparse feature vectors if `d` is reasonably large, whereas `FIX=5` will split 5 times and give denser vectors.\n",
    "\n",
    "Let's test `hashfeatures` on a few examples, varying `baby`, `d`, and `FIX`."
   ]
  },
  {
   "cell_type": "code",
   "execution_count": 40,
   "metadata": {},
   "outputs": [
    {
     "name": "stdout",
     "output_type": "stream",
     "text": [
      "Split 1/3:\t(A>, <n),\t1s at indices [32, 44]\n",
      "Split 2/3:\t(Ad>, <yn),\t1s at indices [23, 92]\n",
      "Split 3/3:\t(Add>, <syn),\t1s at indices [78, 15]\n",
      "Feature vector for Addisyn:\n",
      "[0 0 0 0 0 0 0 0 0 0 0 0 0 0 0 1 0 0 0 0 0 0 0 1 0 0 0 0 0 0 0 0 1 0 0 0 0\n",
      " 0 0 0 0 0 0 0 1 0 0 0 0 0 0 0 0 0 0 0 0 0 0 0 0 0 0 0 0 0 0 0 0 0 0 0 0 0\n",
      " 0 0 0 0 1 0 0 0 0 0 0 0 0 0 0 0 0 0 1 0 0 0 0 0 0 0 0 0 0 0 0 0 0 0 0 0 0\n",
      " 0 0 0 0 0 0 0 0 0 0 0 0 0 0 0 0 0]\n",
      "\n",
      "Split 1/3:\t(A>, <n),\t1s at indices [0, 0]\n",
      "Split 2/3:\t(Ad>, <yn),\t1s at indices [3, 0]\n",
      "Split 3/3:\t(Add>, <syn),\t1s at indices [2, 3]\n",
      "Feature vector for Addisyn:\n",
      "[1 0 1 1]\n",
      "\n",
      "Split 1/7:\t(A>, <n),\t1s at indices [32, 44]\n",
      "Split 2/7:\t(Ad>, <yn),\t1s at indices [23, 92]\n",
      "Split 3/7:\t(Add>, <syn),\t1s at indices [78, 15]\n",
      "Split 4/7:\t(Addi>, <isyn),\t1s at indices [120, 52]\n",
      "Split 5/7:\t(Addis>, <disyn),\t1s at indices [2, 59]\n",
      "Split 6/7:\t(Addisy>, <ddisyn),\t1s at indices [19, 56]\n",
      "Split 7/7:\t(Addisyn>, <Addisyn),\t1s at indices [110, 65]\n",
      "Feature vector for Addisyn:\n",
      "[0 0 1 0 0 0 0 0 0 0 0 0 0 0 0 1 0 0 0 1 0 0 0 1 0 0 0 0 0 0 0 0 1 0 0 0 0\n",
      " 0 0 0 0 0 0 0 1 0 0 0 0 0 0 0 1 0 0 0 1 0 0 1 0 0 0 0 0 1 0 0 0 0 0 0 0 0\n",
      " 0 0 0 0 1 0 0 0 0 0 0 0 0 0 0 0 0 0 1 0 0 0 0 0 0 0 0 0 0 0 0 0 0 0 0 0 1\n",
      " 0 0 0 0 0 0 0 0 0 1 0 0 0 0 0 0 0]\n",
      "\n",
      "Split 1/4:\t(M>, <x),\t1s at indices [11, 35]\n",
      "Split 2/4:\t(Ma>, <ax),\t1s at indices [113, 87]\n",
      "Split 3/4:\t(Max>, <Max),\t1s at indices [103, 74]\n",
      "Split 4/4:\t(Max>, <Max),\t1s at indices [103, 74]\n",
      "Feature vector for Max:\n",
      "[0 0 0 0 0 0 0 0 0 0 0 1 0 0 0 0 0 0 0 0 0 0 0 0 0 0 0 0 0 0 0 0 0 0 0 1 0\n",
      " 0 0 0 0 0 0 0 0 0 0 0 0 0 0 0 0 0 0 0 0 0 0 0 0 0 0 0 0 0 0 0 0 0 0 0 0 0\n",
      " 1 0 0 0 0 0 0 0 0 0 0 0 0 1 0 0 0 0 0 0 0 0 0 0 0 0 0 0 0 1 0 0 0 0 0 0 0\n",
      " 0 0 1 0 0 0 0 0 0 0 0 0 0 0 0 0 0]\n",
      "\n"
     ]
    }
   ],
   "source": [
    "v = hashfeatures(\"Addisyn\", d=128, FIX=3, debug=True)\n",
    "v = hashfeatures(\"Addisyn\", d=4, FIX=3, debug=True)\n",
    "v = hashfeatures(\"Addisyn\", d=128, FIX=7, debug=True)\n",
    "v = hashfeatures(\"Max\", d=128, FIX=4, debug=True)"
   ]
  },
  {
   "cell_type": "markdown",
   "metadata": {},
   "source": [
    "The key takeaway here is that the feature extraction process is highly tunable and will almost always impact model performance. While you may sometimes be able to manually select key features by perusing training data, it is often good practice to run multiple experiments with different approaches to define the set of features."
   ]
  },
  {
   "cell_type": "code",
   "execution_count": 41,
   "metadata": {},
   "outputs": [],
   "source": [
    "def name2features(filename, d=128, FIX=3, LoadFile=True, debug=False):\n",
    "    \"\"\"\n",
    "    Output:\n",
    "        X : n feature vectors of dimension d, (nxd)\n",
    "    \"\"\"\n",
    "    # read in baby names\n",
    "    if LoadFile:\n",
    "        with open(filename, 'r') as f:\n",
    "            babynames = [x.rstrip() for x in f.readlines() if len(x) > 0]\n",
    "    else:\n",
    "        babynames = filename.split('\\n')\n",
    "    n = len(babynames)\n",
    "    X = np.zeros((n, d))\n",
    "    for i in range(n):\n",
    "        X[i,:] = hashfeatures(babynames[i], d, FIX)\n",
    "    return (X, babynames) if debug else X"
   ]
  },
  {
   "cell_type": "markdown",
   "metadata": {
    "deletable": false,
    "editable": false
   },
   "source": [
    "In the code cell above, `name2features` reads every name in the given file and converts it into a 128-dimensional feature vector by first assembling substrings (based on the parameter `FIX`), then hashing these assembled substrings and modifying the feature vector index (the modulo of the number of dimensions `d`) that corresponds to this hash value.\n",
    "\n",
    "More often than not, having a good understanding of the training data can help in training a good Machine Learning model. Let's check out the feature matrix visually. On the Y-axis are baby names, and on the X-axis are features for each baby name. The heatmap is white when the feature value is 1 and black otherwise.\n",
    "\n",
    "You will notice that certain feature indices are white for many baby names. What could be the reason?"
   ]
  },
  {
   "cell_type": "code",
   "execution_count": 42,
   "metadata": {},
   "outputs": [
    {
     "data": {
      "image/png": "[encoded data removed]",
      "text/plain": [
       "<Figure size 1440x576 with 1 Axes>"
      ]
     },
     "metadata": {
      "needs_background": "light"
     },
     "output_type": "display_data"
    }
   ],
   "source": [
    "Xboys, namesBoys = name2features(\"boys.train\", d=128, FIX=3, debug=True)\n",
    "Xgirls, namesGirls = name2features(\"girls.train\", d=128, FIX=3, debug=True)\n",
    "X = np.concatenate([Xboys[:20], Xgirls[:20]], axis=0)\n",
    "\n",
    "plt.figure(figsize=(20, 8))\n",
    "ax = sns.heatmap(X.astype(int), cbar=False)\n",
    "ax.set_xlabel('feature indices')\n",
    "ax.set_ylabel('baby names')\n",
    "ticks = ax.set_yticks(np.arange(40, dtype=int))\n",
    "ticklabels = ax.set_yticklabels(namesBoys[:20] + namesGirls[:20])\n",
    "plt.show()"
   ]
  },
  {
   "cell_type": "markdown",
   "metadata": {
    "deletable": false,
    "editable": false,
    "nbgrader": {
     "checksum": "39280620b8cbeb29243b217c8a785fcb",
     "grade": false,
     "grade_id": "cell-e96f9a3b1bc1cbe9",
     "locked": true,
     "schema_version": 1,
     "solution": false
    }
   },
   "source": [
    "<h3>The <code>genTrainFeatures</code> Function</h3>\n",
    "<p>We have provided you with a python function <code>genTrainFeatures</code>, which transforms the names into features and loads them into memory. "
   ]
  },
  {
   "cell_type": "code",
   "execution_count": 43,
   "metadata": {},
   "outputs": [],
   "source": [
    "def genTrainFeatures(dimension=128):\n",
    "    \"\"\"\n",
    "    Input: \n",
    "        dimension: desired dimension of the features\n",
    "    Output: \n",
    "        X: n feature vectors of dimensionality d (nxd)\n",
    "        Y: n labels (-1 = girl, +1 = boy) (n)\n",
    "    \"\"\"\n",
    "    \n",
    "    # Load in the data\n",
    "    Xgirls = name2features(\"girls.train\", d=dimension)\n",
    "    Xboys = name2features(\"boys.train\", d=dimension)\n",
    "    X = np.concatenate([Xgirls, Xboys])\n",
    "    \n",
    "    # Generate Labels\n",
    "    Y = np.concatenate([-np.ones(len(Xgirls)), np.ones(len(Xboys))])\n",
    "    \n",
    "    # shuffle data into random order\n",
    "    ii = np.random.permutation([i for i in range(len(Y))])\n",
    "    \n",
    "    return X[ii, :], Y[ii]"
   ]
  },
  {
   "cell_type": "markdown",
   "metadata": {
    "deletable": false,
    "editable": false,
    "nbgrader": {
     "checksum": "d84c7f22eac848b1a64b816dadaec379",
     "grade": false,
     "grade_id": "cell-f76be5bf3de52f69",
     "locked": true,
     "schema_version": 1,
     "solution": false
    }
   },
   "source": [
    "<p>You can call the following command to return two vectors, one holding all the concatenated feature vectors and one holding the labels of all boys and girls names.</p>"
   ]
  },
  {
   "cell_type": "code",
   "execution_count": 44,
   "metadata": {},
   "outputs": [
    {
     "name": "stdout",
     "output_type": "stream",
     "text": [
      "Shape of training data: (1200, 128)\n",
      "X:\n",
      "[[0 0 0 ... 0 1 0]\n",
      " [0 0 0 ... 0 0 0]\n",
      " [0 0 0 ... 0 0 0]\n",
      " ...\n",
      " [0 0 0 ... 0 0 0]\n",
      " [0 0 0 ... 0 0 0]\n",
      " [1 0 0 ... 0 0 0]]\n",
      "Y:\n",
      "[ 1 -1  1 ...  1  1 -1]\n"
     ]
    }
   ],
   "source": [
    "X, Y = genTrainFeatures(128)\n",
    "print(f'Shape of training data: {X.shape}')\n",
    "print(f'X:\\n{X.astype(int)}')\n",
    "print(f'Y:\\n{Y.astype(int)}')"
   ]
  },
  {
   "cell_type": "markdown",
   "metadata": {
    "deletable": false,
    "editable": false,
    "nbgrader": {
     "checksum": "6601f8020f99537f8a4156b4837302da",
     "grade": false,
     "grade_id": "cell-8ec662b973a6ef03",
     "locked": true,
     "schema_version": 1,
     "solution": false
    }
   },
   "source": [
    "<h2> The Na&iuml;ve Bayes Classifier </h2>\n",
    "\n",
    "<p> The Na&iuml;ve Bayes classifier is a linear classifier based on Bayes Rule. The following cells will walk you through steps and ask you to finish the necessary functions in a pre-defined order. <strong>As a general rule, you should avoid tight loops at all costs.</strong></p>"
   ]
  },
  {
   "cell_type": "markdown",
   "metadata": {},
   "source": [
    "<h3>Part One: Class Probability [Graded]</h3>\n",
    "\n",
    "<p>Estimate the class probability $P(y)$ in \n",
    "<b><code>naivebayesPY</code></b>. This should return the probability that a sample in the training set is positive or negative, independent of its features.\n",
    "</p>"
   ]
  },
  {
   "cell_type": "code",
   "execution_count": 45,
   "metadata": {
    "deletable": false,
    "nbgrader": {
     "checksum": "b7c8597120e89558320d3404cf746ee4",
     "grade": false,
     "grade_id": "cell-naivebayesPY",
     "locked": false,
     "schema_version": 1,
     "solution": true
    }
   },
   "outputs": [],
   "source": [
    "def naivebayesPY(X, Y):\n",
    "    \"\"\"\n",
    "    naivebayesPY(X, Y) returns [pos,neg]\n",
    "\n",
    "    Computation of P(Y)\n",
    "    Input:\n",
    "        X : n input vectors of d dimensions (nxd)\n",
    "        Y : n labels (-1 or +1) (nx1)\n",
    "\n",
    "    Output:\n",
    "        pos: probability p(y=1)\n",
    "        neg: probability p(y=-1)\n",
    "    \"\"\"\n",
    "    \n",
    "    # add one positive and negative example to avoid division by zero (\"plus-one smoothing\")\n",
    "    Y = np.concatenate([Y, [-1,1]])\n",
    "    n = len(Y)\n",
    "    \n",
    "    # YOUR CODE HERE\n",
    "    # find the probability of Y by using np sum to give us the total # of 1 and -1 respectively\n",
    "    # then divide by the len of Y\n",
    "    \n",
    "    pos = np.sum(Y == 1) / n\n",
    "    neg = np.sum(Y == -1) /n\n",
    "    \n",
    "    return pos, neg\n",
    "\n",
    "    #raise NotImplementedError()"
   ]
  },
  {
   "cell_type": "code",
   "execution_count": 46,
   "metadata": {
    "deletable": false,
    "editable": false,
    "nbgrader": {
     "checksum": "3ad64279c8083464fc0e0d22d99bd65f",
     "grade": false,
     "grade_id": "cell-naivesbayesPY_selftest",
     "locked": true,
     "schema_version": 1,
     "solution": false
    }
   },
   "outputs": [
    {
     "name": "stdout",
     "output_type": "stream",
     "text": [
      "Running Test: naivebayesPY_test1 ... ✔ Passed!\n",
      "Running Test: naivebayesPY_test2 ... ✔ Passed!\n",
      "Running Test: naivebayesPY_test3 ... ✔ Passed!\n",
      "Running Test: naivebayesPY_test4 ... ✔ Passed!\n"
     ]
    }
   ],
   "source": [
    "# The following tests will check that the probabilities returned by your function sum to 1 (test1) and return the correct probabilities for a given set of input vectors (tests 2-4)\n",
    "\n",
    "# Check that probabilities sum to 1\n",
    "def naivebayesPY_test1():\n",
    "    pos, neg = naivebayesPY(X,Y)\n",
    "    return np.linalg.norm(pos + neg - 1) < 1e-5\n",
    "\n",
    "# Test the Naive Bayes PY function on a simple example\n",
    "def naivebayesPY_test2():\n",
    "    x = np.array([[0,1],[1,0]])\n",
    "    y = np.array([-1,1])\n",
    "    pos, neg = naivebayesPY(x,y)\n",
    "    pos0, neg0 = .5, .5\n",
    "    test = np.linalg.norm(pos - pos0) + np.linalg.norm(neg - neg0)\n",
    "    return test < 1e-5\n",
    "\n",
    "# Test the Naive Bayes PY function on another example\n",
    "def naivebayesPY_test3():\n",
    "        x = np.array([[0,1,1,0,1],\n",
    "            [1,0,0,1,0],\n",
    "            [1,1,1,1,0],\n",
    "            [0,1,1,0,1],\n",
    "            [1,0,1,0,0],\n",
    "            [0,0,1,0,0],\n",
    "            [1,1,1,0,1]])    \n",
    "        y = np.array([1,-1, 1, 1,-1,-1, 1])\n",
    "        pos, neg = naivebayesPY(x,y)\n",
    "        pos0, neg0 = 5/9., 4/9.\n",
    "        test = np.linalg.norm(pos - pos0) + np.linalg.norm(neg - neg0)\n",
    "        return test < 1e-5\n",
    "\n",
    "# Tests plus-one smoothing\n",
    "def naivebayesPY_test4():\n",
    "    x = np.array([[0,1,1,0,1],[1,0,0,1,0]])    \n",
    "    y = np.array([1,1])\n",
    "    pos, neg = naivebayesPY(x,y)\n",
    "    pos0, neg0 = 3/4., 1/4.\n",
    "    test = np.linalg.norm(pos - pos0) + np.linalg.norm(neg - neg0)\n",
    "    return test < 1e-5    \n",
    "        \n",
    "    \n",
    "runtest(naivebayesPY_test1, 'naivebayesPY_test1')\n",
    "runtest(naivebayesPY_test2,'naivebayesPY_test2')\n",
    "runtest(naivebayesPY_test3,'naivebayesPY_test3')\n",
    "runtest(naivebayesPY_test4,'naivebayesPY_test4')"
   ]
  },
  {
   "cell_type": "code",
   "execution_count": 47,
   "metadata": {
    "deletable": false,
    "editable": false,
    "nbgrader": {
     "checksum": "964c72fde229f07781679822f65734ea",
     "grade": true,
     "grade_id": "cell-naivebayesPY_test1",
     "locked": true,
     "points": 1,
     "schema_version": 1,
     "solution": false
    }
   },
   "outputs": [],
   "source": [
    "# Autograder test cell- worth 1 point\n",
    "# runs naivebayesPY_test1"
   ]
  },
  {
   "cell_type": "code",
   "execution_count": 48,
   "metadata": {
    "deletable": false,
    "editable": false,
    "nbgrader": {
     "checksum": "536a6eeacc70274da0feee0a82924f65",
     "grade": true,
     "grade_id": "cell-naivebayesPY_test2",
     "locked": true,
     "points": 1,
     "schema_version": 1,
     "solution": false
    }
   },
   "outputs": [],
   "source": [
    "# Autograder test cell- worth 1 points\n",
    "# runs naivebayesPY_test2"
   ]
  },
  {
   "cell_type": "code",
   "execution_count": 49,
   "metadata": {
    "deletable": false,
    "editable": false,
    "nbgrader": {
     "checksum": "f57c19b68e46eae2363082b343c025cd",
     "grade": true,
     "grade_id": "cell-naivebayesPY_test3",
     "locked": true,
     "points": 1,
     "schema_version": 1,
     "solution": false
    }
   },
   "outputs": [],
   "source": [
    "# Autograder test cell- worth 1 points\n",
    "# runs naivebayesPY_test3"
   ]
  },
  {
   "cell_type": "code",
   "execution_count": 50,
   "metadata": {
    "deletable": false,
    "editable": false,
    "nbgrader": {
     "checksum": "722c795ad12b379a2a7f766f8e8a85a8",
     "grade": true,
     "grade_id": "cell-naivebayesPY_test4",
     "locked": true,
     "points": 1,
     "schema_version": 1,
     "solution": false
    }
   },
   "outputs": [],
   "source": [
    "# Autograder test cell- worth 1 points\n",
    "# runs naivebayesPY_test4"
   ]
  },
  {
   "cell_type": "markdown",
   "metadata": {
    "deletable": false
   },
   "source": [
    "### Part Two: Conditional Probability [Graded] \n",
    "\n",
    "Estimate the conditional probabilities $P([\\mathbf{x}]_{\\alpha} = 1 | Y = y)$ in \n",
    "**`naivebayesPXY`**. Notice that by construction, our features are binary categorical features. Use a **categorical** distribution as model and return the probability vectors for each feature being 1 given a class label.  Note that the result will be two vectors of length `d` (the number of features), where the values represent the probability that feature i is equal to 1.\n",
    "\n",
    "\n",
    "Here we compute the fraction of counts that a feature is hot or not ($[\\mathbf{x}]_\\alpha = 1$ or $[\\mathbf{x}]_\\alpha = 0$) conditioned on gender. For example, if $[\\mathbf{x}]_1 = [1, 0, 1, 0, 1]$ and $Y = [1, 1, 1, 1, -1]$ (boy=$1$ and girl=$-1$), then $P([\\mathbf{x}]_1 = 1 | Y = 1) = (1 + 0 + 1 + 0)/4 = 0.5$ and $P([\\mathbf{x}]_1 = 1 | Y = -1) = (1)/1 = 1$. You need to compute this for each dimension `0 <= i < d` for each gender."
   ]
  },
  {
   "cell_type": "code",
   "execution_count": 51,
   "metadata": {
    "deletable": false,
    "nbgrader": {
     "checksum": "f07be3822ddb819164a629510b32c44d",
     "grade": false,
     "grade_id": "cell-naivebayesPXY",
     "locked": false,
     "schema_version": 1,
     "solution": true
    }
   },
   "outputs": [],
   "source": [
    "def naivebayesPXY(X,Y):\n",
    "    \"\"\"\n",
    "    naivebayesPXY(X, Y) returns [posprob,negprob]\n",
    "    \n",
    "    Input:\n",
    "        X : n input vectors of d dimensions (nxd)\n",
    "        Y : n labels (-1 or +1) (n)\n",
    "    \n",
    "    Output:\n",
    "        posprob: probability vector of p(x_alpha = 1|y=1)  (d)\n",
    "        negprob: probability vector of p(x_alpha = 1|y=-1) (d)\n",
    "    \"\"\"\n",
    "    \n",
    "    # add one positive and negative example to avoid division by zero (\"plus-one smoothing\")\n",
    "    n, d = X.shape\n",
    "    X = np.concatenate([X, np.ones((2,d)), np.zeros((2,d))])\n",
    "    Y = np.concatenate([Y, [-1,1,-1,1]])\n",
    "\n",
    "    \n",
    "    # YOUR CODE HERE\n",
    "    # probability of X given Y\n",
    "    # mean of X along the axis = 0 /rows?\n",
    "    #a = np.mean(x, axis=0) # mean of each row in X\n",
    "    #print(\"\\nmean of X, axis = 0 : \", np.mean(X, axis = 0))  \n",
    "    \n",
    "    # condition the mean/probability slicing the label (Y)\n",
    "    # Jason's blog he shared helped in me getting this right w/out looping:\n",
    "    # https://jasondeden.medium.com/array-indexing-slicing-vs-loops-753484854bc8\n",
    "    posprob = np.mean(X[Y == 1], axis = 0)\n",
    "    negprob = np.mean(X[Y ==-1], axis = 0)\n",
    "    \n",
    "    return posprob, negprob\n",
    "    \n",
    "    #raise NotImplementedError()"
   ]
  },
  {
   "cell_type": "markdown",
   "metadata": {
    "deletable": false,
    "editable": false
   },
   "source": [
    "We can plot the positive and negative probabilities for each feature. You might notice some features having higher conditional probabilities given gender (spikes of one color but low probability of the other color). This could imply that those features are particularly \"indicative\" in the baby-name classification task. The Naïve Bayes classifier will help us flip the conditional probability $P(\\mathbf{x} | Y)$ to get $P(Y | \\mathbf{x})$."
   ]
  },
  {
   "cell_type": "code",
   "execution_count": 52,
   "metadata": {},
   "outputs": [
    {
     "data": {
      "image/png": "[encoded data removed]",
      "text/plain": [
       "<Figure size 1440x288 with 1 Axes>"
      ]
     },
     "metadata": {
      "needs_background": "light"
     },
     "output_type": "display_data"
    }
   ],
   "source": [
    "X, Y = genTrainFeatures(128)\n",
    "posprob, negprob = naivebayesPXY(X, Y)\n",
    "probs = pd.DataFrame({'feature': np.arange(128, dtype=int), 'boys': posprob, 'girls': negprob})\n",
    "\n",
    "plt.figure(figsize=(20, 4))\n",
    "ax = sns.lineplot(x='feature', y='value', hue='variable', data=pd.melt(probs, ['feature']))\n",
    "ax.set_xlabel('feature indices')\n",
    "ax.set_ylabel('probability')\n",
    "plt.show()"
   ]
  },
  {
   "cell_type": "code",
   "execution_count": 53,
   "metadata": {
    "deletable": false,
    "editable": false,
    "nbgrader": {
     "checksum": "b2ad4dd249f308e1d9f9a1426bedd3ca",
     "grade": false,
     "grade_id": "cell-naivebayesPXY_selftest",
     "locked": true,
     "schema_version": 1,
     "solution": false
    }
   },
   "outputs": [
    {
     "name": "stdout",
     "output_type": "stream",
     "text": [
      "Running Test: naivebayesPXY_test1 ... ✔ Passed!\n",
      "Running Test: naivebayesPXY_test2 ... ✔ Passed!\n",
      "Running Test: naivebayesPXY_test3 ... ✔ Passed!\n",
      "Running Test: naivebayesPXY_test4 ... ✔ Passed!\n"
     ]
    }
   ],
   "source": [
    "# The following tests check that your implementation of naivebayesPXY returns the same posterior probabilities as the correct implementation, in the correct dimensions\n",
    "\n",
    "# test a simple toy example with two points (one positive, one negative)\n",
    "def naivebayesPXY_test1():\n",
    "    x = np.array([[0,1],[1,0]])\n",
    "    y = np.array([-1,1])\n",
    "    pos, neg = naivebayesPXY(x,y)\n",
    "    pos0, neg0 = naivebayesPXY_grader(x,y)\n",
    "    test = np.linalg.norm(pos - pos0) + np.linalg.norm(neg - neg0)\n",
    "    return test < 1e-5\n",
    "\n",
    "# test the probabilities P(X|Y=+1)\n",
    "def naivebayesPXY_test2():\n",
    "    pos, neg = naivebayesPXY(X,Y)\n",
    "    posprobXY, negprobXY = naivebayesPXY_grader(X, Y)\n",
    "    test = np.linalg.norm(pos - posprobXY) \n",
    "    return test < 1e-5\n",
    "\n",
    "# test the probabilities P(X|Y=-1)\n",
    "def naivebayesPXY_test3():\n",
    "    pos, neg = naivebayesPXY(X,Y)\n",
    "    posprobXY, negprobXY = naivebayesPXY_grader(X, Y)\n",
    "    test = np.linalg.norm(neg - negprobXY)\n",
    "    return test < 1e-5\n",
    "\n",
    "\n",
    "# Check that the dimensions of the posterior probabilities are correct\n",
    "def naivebayesPXY_test4():\n",
    "    pos, neg = naivebayesPXY(X,Y)\n",
    "    posprobXY, negprobXY = naivebayesPXY_grader(X, Y)\n",
    "    return pos.shape == posprobXY.shape and neg.shape == negprobXY.shape\n",
    "\n",
    "runtest(naivebayesPXY_test1,'naivebayesPXY_test1')\n",
    "runtest(naivebayesPXY_test2,'naivebayesPXY_test2')\n",
    "runtest(naivebayesPXY_test3,'naivebayesPXY_test3')\n",
    "runtest(naivebayesPXY_test4,'naivebayesPXY_test4')"
   ]
  },
  {
   "cell_type": "code",
   "execution_count": 54,
   "metadata": {
    "deletable": false,
    "editable": false,
    "nbgrader": {
     "checksum": "651de8c597b6785e55dfac8f8e7a089b",
     "grade": true,
     "grade_id": "cell-naivebayesPXY_test1",
     "locked": true,
     "points": 1,
     "schema_version": 1,
     "solution": false
    }
   },
   "outputs": [],
   "source": [
    "# Autograder test cell- worth 1 point\n",
    "# runs naivebayesPXY_test1"
   ]
  },
  {
   "cell_type": "code",
   "execution_count": 55,
   "metadata": {
    "deletable": false,
    "editable": false,
    "nbgrader": {
     "checksum": "0ae5fd07a6710a7ad48a81e3c234ddeb",
     "grade": true,
     "grade_id": "cell-naivebayesPXY_test2",
     "locked": true,
     "points": 1,
     "schema_version": 1,
     "solution": false
    }
   },
   "outputs": [],
   "source": [
    "# Autograder test cell- worth 1 point\n",
    "# runs naivebayesPXY_test2"
   ]
  },
  {
   "cell_type": "code",
   "execution_count": 56,
   "metadata": {
    "deletable": false,
    "editable": false,
    "nbgrader": {
     "checksum": "903fb3289647293088a4adf63da61327",
     "grade": true,
     "grade_id": "cell-naivebayesPXY_test3",
     "locked": true,
     "points": 1,
     "schema_version": 1,
     "solution": false
    }
   },
   "outputs": [],
   "source": [
    "# Autograder test cell- worth 1 point\n",
    "# runs naivebayesPXY_test3"
   ]
  },
  {
   "cell_type": "code",
   "execution_count": 57,
   "metadata": {
    "deletable": false,
    "editable": false,
    "nbgrader": {
     "checksum": "6d1d44639e06e7ae390d7fd67b597352",
     "grade": true,
     "grade_id": "cell-naivebayesPXY_test4",
     "locked": true,
     "points": 1,
     "schema_version": 1,
     "solution": false
    }
   },
   "outputs": [],
   "source": [
    "# Autograder test cell- worth 1 point\n",
    "# runs naivebayesPXY_test4"
   ]
  },
  {
   "cell_type": "markdown",
   "metadata": {
    "deletable": false,
    "editable": false
   },
   "source": [
    "### Part Three: Log Likelihood [Graded]\n",
    "\n",
    "Calculate the log likelihood $\\log P(\\mathbf{x}|Y = y)$ for each point in `X_test` given label `Y_test` in **`loglikelihood`**.\n",
    "\n",
    "#### Recall\n",
    "1. Naïve Bayes assumption: the likelihood $P(\\mathbf{x} | Y = y)$ of a data point $\\mathbf{x}$ is equal to the product of the conditional probabilities of each feature $[\\mathbf{x}]_\\alpha$ having value $x_\\alpha$, i.e., \n",
    "$$\n",
    "P(\\mathbf{x} | Y = y) = \\prod_{\\alpha=1}^d P([\\mathbf{x}]_\\alpha = x_\\alpha | Y = y).\n",
    "$$\n",
    "For example, with $\\mathbf{x} = [1, 0, 1]$ and corresponding label $Y=1$, you will calculate likelihood $P(\\mathbf{x} | Y = 1)$ as $P([\\mathbf{x}]_1 = 1 | Y = 1) \\cdot P([\\mathbf{x}]_2 = 0 | Y = 1) \\cdot P([\\mathbf{x}]_3 = 1 | Y = 1)$.\n",
    "\n",
    "2. Given probabilities:\n",
    "    - `posprob` vector: $P([\\mathbf{x}]_\\alpha = 1 | Y = 1)$\n",
    "    - `negprob` vector: $P([\\mathbf{x}]_\\alpha = 1 | Y = -1)$\n",
    "\n",
    "3. Fact $\\log(ab) = \\log a + \\log b$.\n",
    "\n",
    "To simplify your code, we recommend calculating log likelihoods for positive points ($\\mathbf{x}$ with $Y = 1$) and those for negative points separately."
   ]
  },
  {
   "cell_type": "code",
   "execution_count": 58,
   "metadata": {
    "deletable": false,
    "nbgrader": {
     "checksum": "261eaa8e2b72714b4ec84567f1d1e863",
     "grade": false,
     "grade_id": "cell-loglikelihood",
     "locked": false,
     "schema_version": 1,
     "solution": true
    }
   },
   "outputs": [],
   "source": [
    "def loglikelihood(posprob, negprob, X_test, Y_test):\n",
    "    \"\"\"\n",
    "    loglikelihood(posprob, negprob, X_test, Y_test) returns loglikelihood of each point in X_test\n",
    "    \n",
    "    Input:\n",
    "        posprob: conditional probabilities for the positive class (d)\n",
    "        negprob: conditional probabilities for the negative class (d)\n",
    "        X_test : features (nxd)\n",
    "        Y_test : labels (-1 or +1) (n)\n",
    "    \n",
    "    Output:\n",
    "        loglikelihood of each point in X_test (n)\n",
    "    \"\"\"\n",
    "    # YOUR CODE HERE\n",
    "    \n",
    "    #1. start by creating a blank maxtrix based on the size (rows) of X_test\n",
    "    n, d = X_test.shape    \n",
    "    loglikelihood = np.zeros(n)\n",
    "\n",
    "    # 2. create postive/negative variables from the Y_test labels\n",
    "    test_male = (Y_test == 1)\n",
    "    test_female = (Y_test ==-1)\n",
    "    \n",
    "    #3. Begin populating the matrix\n",
    "    #example from Jason's blog helped me work through how to populate\n",
    "    # the matrix and break down the execution\n",
    "    \n",
    "    # given the baby name classifier walk through:\n",
    "    \n",
    "    # populate matrix with male baby names\n",
    "    # log P(Y = 1 | x) ...\n",
    "    loglikelihood[test_male]= X_test[test_male] @ np.log(posprob) + (1 - X_test[test_male]) @ np.log(1 - posprob)\n",
    "    \n",
    "    # populate matrix with female baby names\n",
    "    # log P(Y = -1 | x)\n",
    "    loglikelihood[test_female]= X_test[test_female] @ np.log(negprob) + (1 - X_test[test_female]) @ np.log(1 - negprob)\n",
    "    \n",
    "    return loglikelihood\n"
   ]
  },
  {
   "cell_type": "code",
   "execution_count": 59,
   "metadata": {
    "deletable": false,
    "editable": false,
    "nbgrader": {
     "checksum": "c93f99ca0e06e687e85d96f2541b22c8",
     "grade": false,
     "grade_id": "cell-loglikelihood_selftest",
     "locked": true,
     "schema_version": 1,
     "solution": false
    }
   },
   "outputs": [
    {
     "name": "stdout",
     "output_type": "stream",
     "text": [
      "Running Test: loglikelihood_testneg (all log likelihoods must be negative) ... ✔ Passed!\n",
      "Running Test: loglikelihood_test0 (training data) ... ✔ Passed!\n",
      "Running Test: loglikelihood_test0a (positive points) ... ✔ Passed!\n",
      "Running Test: loglikelihood_test0b (negative points) ... ✔ Passed!\n",
      "Running Test: loglikelihood_test1 ... ✔ Passed!\n",
      "Running Test: loglikelihood_test2 ... ✔ Passed!\n",
      "Running Test: loglikelihood_test3 ... ✔ Passed!\n"
     ]
    }
   ],
   "source": [
    "# The following tests check that your implementation of loglikelihood returns the same values as the correct implementation for three different datasets\n",
    "\n",
    "X, Y = genTrainFeatures(128)\n",
    "posprob, negprob = naivebayesPXY_grader(X, Y)\n",
    "\n",
    "# test if the log likelihood of the training data are all negative\n",
    "def loglikelihood_testneg():\n",
    "    ll=loglikelihood(posprob,negprob,X,Y);\n",
    "    return all(ll<0)\n",
    "\n",
    "# test if the log likelihood of the training data matches the solution\n",
    "def loglikelihood_test0():\n",
    "    ll=loglikelihood(posprob,negprob,X,Y);\n",
    "    llgrader=loglikelihood_grader(posprob,negprob,X,Y);\n",
    "    return np.linalg.norm(ll-llgrader)<1e-5\n",
    "\n",
    "# test if the log likelihood of the training data matches the solution\n",
    "# (positive points only)\n",
    "def loglikelihood_test0a():\n",
    "    ll=loglikelihood(posprob,negprob,X,Y);\n",
    "    llgrader=loglikelihood_grader(posprob,negprob,X,Y);\n",
    "    return np.linalg.norm(ll[Y==1]-llgrader[Y==1])<1e-5\n",
    "\n",
    "# test if the log likelihood of the training data matches the solution\n",
    "# (negative points only)\n",
    "def loglikelihood_test0b():\n",
    "    ll=loglikelihood(posprob,negprob,X,Y);\n",
    "    llgrader=loglikelihood_grader(posprob,negprob,X,Y);\n",
    "    return np.linalg.norm(ll[Y==-1]-llgrader[Y==-1])<1e-5\n",
    "\n",
    "\n",
    "# little toy example with two data points (1 positive, 1 negative)\n",
    "def loglikelihood_test1():\n",
    "    x = np.array([[0,1],[1,0]])\n",
    "    y = np.array([-1,1])\n",
    "    posprobXY, negprobXY = naivebayesPXY_grader(X, Y)\n",
    "    loglike = loglikelihood(posprobXY[:2], negprobXY[:2], x, y)\n",
    "    loglike0 = loglikelihood_grader(posprobXY[:2], negprobXY[:2], x, y)\n",
    "    test = np.linalg.norm(loglike - loglike0)\n",
    "    return test < 1e-5\n",
    "\n",
    "# little toy example with four data points (2 positive, 2 negative)\n",
    "def loglikelihood_test2():\n",
    "    x = np.array([[1,0,1,0,1,1], \n",
    "        [0,0,1,0,1,1], \n",
    "        [1,0,0,1,1,1], \n",
    "        [1,1,0,0,1,1]])\n",
    "    y = np.array([-1,1,1,-1])\n",
    "    posprobXY, negprobXY = naivebayesPXY_grader(X, Y)\n",
    "    loglike = loglikelihood(posprobXY[:6], negprobXY[:6], x, y)\n",
    "    loglike0 = loglikelihood_grader(posprobXY[:6], negprobXY[:6], x, y)\n",
    "    test = np.linalg.norm(loglike - loglike0)\n",
    "    return test < 1e-5\n",
    "\n",
    "\n",
    "# one more toy example with 5 positive and 2 negative points\n",
    "def loglikelihood_test3():\n",
    "    x = np.array([[1,1,1,1,1,1], \n",
    "        [0,0,1,0,0,0], \n",
    "        [1,1,0,1,1,1], \n",
    "        [0,1,0,0,0,1], \n",
    "        [0,1,1,0,1,1], \n",
    "        [1,0,0,0,0,1], \n",
    "        [0,1,1,0,1,1]])\n",
    "    y = np.array([1, 1, 1 ,1,-1,-1, 1])\n",
    "    posprobXY, negprobXY = naivebayesPXY_grader(X, Y)\n",
    "    loglike = loglikelihood(posprobXY[:6], negprobXY[:6], x, y)\n",
    "    loglike0 = loglikelihood_grader(posprobXY[:6], negprobXY[:6], x, y)\n",
    "    test = np.linalg.norm(loglike - loglike0)\n",
    "    return test < 1e-5\n",
    "\n",
    "\n",
    "runtest(loglikelihood_testneg, 'loglikelihood_testneg (all log likelihoods must be negative)')\n",
    "runtest(loglikelihood_test0, 'loglikelihood_test0 (training data)')\n",
    "runtest(loglikelihood_test0a, 'loglikelihood_test0a (positive points)')\n",
    "runtest(loglikelihood_test0b, 'loglikelihood_test0b (negative points)')\n",
    "runtest(loglikelihood_test1, 'loglikelihood_test1')\n",
    "runtest(loglikelihood_test2, 'loglikelihood_test2')\n",
    "runtest(loglikelihood_test3, 'loglikelihood_test3')"
   ]
  },
  {
   "cell_type": "code",
   "execution_count": 60,
   "metadata": {
    "deletable": false,
    "editable": false,
    "nbgrader": {
     "checksum": "fcc3fc6ac18a9b4f592168cc53db80c4",
     "grade": true,
     "grade_id": "cell-loglikelihood_testneg",
     "locked": true,
     "points": 1,
     "schema_version": 1,
     "solution": false
    }
   },
   "outputs": [],
   "source": [
    "# Autograder test cell- worth 1 point\n",
    "# runs loglikelihood_testneg"
   ]
  },
  {
   "cell_type": "code",
   "execution_count": 61,
   "metadata": {
    "deletable": false,
    "editable": false,
    "nbgrader": {
     "checksum": "ee1bf86fd00bd32f6aca0e614236fba8",
     "grade": true,
     "grade_id": "cell-loglikelihood_test0",
     "locked": true,
     "points": 1,
     "schema_version": 1,
     "solution": false
    }
   },
   "outputs": [],
   "source": [
    "# Autograder test cell- worth 1 point\n",
    "# runs loglikelihood_test0"
   ]
  },
  {
   "cell_type": "code",
   "execution_count": 62,
   "metadata": {
    "deletable": false,
    "editable": false,
    "nbgrader": {
     "checksum": "eb10671977a73204260b6837d7d497b0",
     "grade": true,
     "grade_id": "cell-loglikelihood_test0a",
     "locked": true,
     "points": 1,
     "schema_version": 1,
     "solution": false
    }
   },
   "outputs": [],
   "source": [
    "# Autograder test cell- worth 1 point\n",
    "# runs loglikelihood_test0a"
   ]
  },
  {
   "cell_type": "code",
   "execution_count": 63,
   "metadata": {
    "deletable": false,
    "editable": false,
    "nbgrader": {
     "checksum": "85783e07b286db379342e688fd2ee930",
     "grade": true,
     "grade_id": "cell-loglikelihood_test0b",
     "locked": true,
     "points": 1,
     "schema_version": 1,
     "solution": false
    }
   },
   "outputs": [],
   "source": [
    "# Autograder test cell- worth 1 point\n",
    "# runs loglikelihood_test0b"
   ]
  },
  {
   "cell_type": "code",
   "execution_count": 64,
   "metadata": {
    "deletable": false,
    "editable": false,
    "nbgrader": {
     "checksum": "a261168ecd0d7c48ea6cdccc5aea8dc0",
     "grade": true,
     "grade_id": "cell-loglikelihood_test1",
     "locked": true,
     "points": 1,
     "schema_version": 1,
     "solution": false
    }
   },
   "outputs": [],
   "source": [
    "# Autograder test cell- worth 1 point\n",
    "# runs loglikelihood_test1"
   ]
  },
  {
   "cell_type": "code",
   "execution_count": 65,
   "metadata": {
    "deletable": false,
    "editable": false,
    "nbgrader": {
     "checksum": "960212edfdba8e50f4292e4762d62d06",
     "grade": true,
     "grade_id": "cell-loglikelihood_test2",
     "locked": true,
     "points": 1,
     "schema_version": 1,
     "solution": false
    }
   },
   "outputs": [],
   "source": [
    "# Autograder test cell- worth 1 point\n",
    "# runs loglikelihood_test2"
   ]
  },
  {
   "cell_type": "code",
   "execution_count": 66,
   "metadata": {
    "deletable": false,
    "editable": false,
    "nbgrader": {
     "checksum": "b58ba19756e70c2717a1f1b15d11bbd9",
     "grade": true,
     "grade_id": "cell-loglikelihood_test3",
     "locked": true,
     "points": 1,
     "schema_version": 1,
     "solution": false
    }
   },
   "outputs": [],
   "source": [
    "# Autograder test cell- worth 1 point\n",
    "# runs loglikelihood_test3"
   ]
  },
  {
   "cell_type": "markdown",
   "metadata": {
    "deletable": false,
    "editable": false
   },
   "source": [
    "### Part Four: Naïve Bayes Prediction [Graded]\n",
    "\n",
    "\n",
    "Observe that for a test point $\\mathbf{x}_{test}$, we should classify it as positive if the log ratio $\\log\\left(\\frac{P(Y=1 | \\mathbf{x} = \\mathbf{x}_{test})}{P(Y=-1|\\mathbf{x} = \\mathbf{x}_{test})}\\right) > 0$ and negative otherwise. Implement the <b><code>naivebayes_pred</code></b> by first calculating the log ratio $\\log\\left(\\frac{P(Y=1 | \\mathbf{x} = \\mathbf{x}_{test})}{P(Y=-1|\\mathbf{x} = \\mathbf{x}_{test})}\\right)$ for each test point in $\\mathbf{x}_{test}$ using Bayes' rule and predict the label of the test points by looking at the log ratio.\n",
    "\n",
    "#### Recall\n",
    "1. Bayes' theorem:\n",
    "$$\n",
    "P(Y = y | \\mathbf{x} = \\mathbf{x}_{test}) = \\frac{ P(\\mathbf{x} = \\mathbf{x}_{test} | Y = y) \\cdot P(Y = y) }{ P(\\mathbf{x}) }\n",
    "$$\n",
    "$$\n",
    "\\underbrace{P(Y = y | \\mathbf{x} = \\mathbf{x}_{test})}_\\text{posterior} \\propto \\underbrace{P(\\mathbf{x} = \\mathbf{x}_{test} | Y = y)}_\\text{likelihood} \\cdot \\underbrace{P(Y = y)}_\\text{prior}\n",
    "$$\n",
    "where $\\propto$ is the proportionality symbol. Proportionality applies because we have dropped the denominator $P(\\mathbf{x})$, which is just a multiplicative constant when finding $y$ that maximixes the posterior.\n",
    "\n",
    "2. Given probabilities:\n",
    "    - `pos`: $P(Y = 1)$\n",
    "    - `neg`: $P(Y = -1)$\n",
    "    - `posprob` vector: $P([\\mathbf{x}]_\\alpha = 1 | Y = 1)$\n",
    "    - `negprob` vector: $P([\\mathbf{x}]_\\alpha = 1 | Y = -1)$\n",
    "\n",
    "\n",
    "3. `loglikelihood` function you just implemented.\n",
    "\n",
    "4. Facts $\\log (ab) = \\log a + \\log b$ and  $\\log \\left(\\frac{a}{b}\\right) = \\log{a} - \\log{b}$ (can simplify your calculations)."
   ]
  },
  {
   "cell_type": "code",
   "execution_count": 67,
   "metadata": {
    "deletable": false,
    "nbgrader": {
     "checksum": "7cf455f033e76d2f60cd36d3e2255305",
     "grade": false,
     "grade_id": "cell-naivebayes_pred",
     "locked": false,
     "schema_version": 1,
     "solution": true
    }
   },
   "outputs": [],
   "source": [
    "def naivebayes_pred(pos, neg, posprob, negprob, X_test):\n",
    "    \"\"\"\n",
    "    naivebayes_pred(pos, neg, posprob, negprob, X_test) returns the prediction of each point in X_test\n",
    "    \n",
    "    Input:\n",
    "        pos: class probability for the negative class\n",
    "        neg: class probability for the positive class\n",
    "        posprob: conditional probabilities for the positive class (d)\n",
    "        negprob: conditional probabilities for the negative class (d)\n",
    "        X_test : features (nxd)\n",
    "    \n",
    "    Output:\n",
    "        prediction of each point in X_test (n)\n",
    "    \"\"\"\n",
    "    # YOUR CODE HERE\n",
    "    # Now we have trained our classifier. \n",
    "    #For prediction, we will compute the log likelihoods and . This will then help us compute the\n",
    "    #predictions, Hashing and using the Bayes' theorem.\n",
    "    \n",
    "    #calculate the log ratio for each test point \n",
    "    #1. start by creating a blank maxtrix based on the size (rows) of X_test\n",
    "    n, d = X_test.shape\n",
    "    Y = np.ones(n)\n",
    "        \n",
    "    #need to do this without looping:\n",
    "    # log_ratio1 = X_test[i, :] * log(posprob * pos) - X_test[i, :] * np.log(negprob)\n",
    "    # guidance from Jason (facilitator):\n",
    "    # take the X_test vector and run it through loglikelyhood twice:\n",
    "    # one for positive and one negative classes.  For the Y I assume both - and + classes\n",
    "    log_ratio = loglikelihood(posprob, negprob, X_test, Y) - loglikelihood(posprob, negprob, X_test, -Y)\n",
    "        \n",
    "    # compute the log of both the pos and neg classes and combine them in a variable\n",
    "    pos_neg_log = np.log(pos) - np.log(neg)\n",
    "    \n",
    "    # combine with the log_ratio\n",
    "    log_likelihood_ratio = log_ratio + pos_neg_log\n",
    "    \n",
    "    # build the prediction matrix and populate it with all negative numbers, then calculate the ratio and add\n",
    "    # add 1s where ratio is > 0\n",
    "    prediction = - np.ones(n)\n",
    "    prediction[log_likelihood_ratio > 0] = 1\n",
    "    \n",
    "    return prediction"
   ]
  },
  {
   "cell_type": "code",
   "execution_count": 68,
   "metadata": {
    "deletable": false,
    "editable": false,
    "nbgrader": {
     "checksum": "1c64b25bb4c1872a6b990ca3bb219cd0",
     "grade": false,
     "grade_id": "cell-4bafad4f7a953c91",
     "locked": true,
     "schema_version": 1,
     "solution": false
    }
   },
   "outputs": [
    {
     "name": "stdout",
     "output_type": "stream",
     "text": [
      "Running Test: naivebayes_pred_test1 ... ✔ Passed!\n",
      "Running Test: naivebayes_pred_test2 ... ✔ Passed!\n",
      "Running Test: naivebayes_pred_test3 ... ✔ Passed!\n",
      "Running Test: naivebayes_pred_test4 ... ✔ Passed!\n"
     ]
    }
   ],
   "source": [
    "# The following tests check that your implementation of naivebayes_pred returns only 1s and -1s (test 1), and that it returns the same predicted values as the correct implementation for three different datasets (tests 2-4)\n",
    "\n",
    "X,Y = genTrainFeatures_grader(128)\n",
    "posY, negY = naivebayesPY_grader(X, Y)\n",
    "posprobXY, negprobXY = naivebayesPXY_grader(X, Y)\n",
    "\n",
    "# check whether the predictions are +1 or neg 1\n",
    "def naivebayes_pred_test1():\n",
    "    preds = naivebayes_pred(posY, negY, posprobXY, negprobXY, X)\n",
    "    return np.all(np.logical_or(preds == -1 , preds == 1))\n",
    "\n",
    "def naivebayes_pred_test2():\n",
    "    x_test = np.array([[0,1],[1,0]])\n",
    "    preds = naivebayes_pred_grader(posY, negY, posprobXY[:2], negprobXY[:2], x_test)\n",
    "    student_preds = naivebayes_pred(posY, negY, posprobXY[:2], negprobXY[:2], x_test)\n",
    "    acc = analyze_grader(\"acc\", preds, student_preds)\n",
    "    return np.abs(acc - 1) < 1e-5\n",
    "\n",
    "def naivebayes_pred_test3():\n",
    "    x_test = np.array([[1,0,1,0,1,1], \n",
    "        [0,0,1,0,1,1], \n",
    "        [1,0,0,1,1,1], \n",
    "        [1,1,0,0,1,1]])\n",
    "    preds = naivebayes_pred_grader(posY, negY, posprobXY[:6], negprobXY[:6], x_test)\n",
    "    student_preds = naivebayes_pred(posY, negY, posprobXY[:6], negprobXY[:6], x_test)\n",
    "    acc = analyze_grader(\"acc\", preds, student_preds)\n",
    "    return np.abs(acc - 1) < 1e-5\n",
    "\n",
    "def naivebayes_pred_test4():\n",
    "    x_test = np.array([[1,1,1,1,1,1], \n",
    "        [0,0,1,0,0,0], \n",
    "        [1,1,0,1,1,1], \n",
    "        [0,1,0,0,0,1], \n",
    "        [0,1,1,0,1,1], \n",
    "        [1,0,0,0,0,1], \n",
    "        [0,1,1,0,1,1]])\n",
    "    preds = naivebayes_pred_grader(posY, negY, posprobXY[:6], negprobXY[:6], x_test)\n",
    "    student_preds = naivebayes_pred(posY, negY, posprobXY[:6], negprobXY[:6], x_test)\n",
    "    acc = analyze_grader(\"acc\", preds, student_preds)\n",
    "    return np.abs(acc - 1) < 1e-5\n",
    "\n",
    "runtest(naivebayes_pred_test1, 'naivebayes_pred_test1')\n",
    "runtest(naivebayes_pred_test2, 'naivebayes_pred_test2')\n",
    "runtest(naivebayes_pred_test3, 'naivebayes_pred_test3')\n",
    "runtest(naivebayes_pred_test4, 'naivebayes_pred_test4')"
   ]
  },
  {
   "cell_type": "code",
   "execution_count": 69,
   "metadata": {
    "deletable": false,
    "editable": false,
    "nbgrader": {
     "checksum": "bdbe6d2416d1c1a25e390e25b9a84218",
     "grade": true,
     "grade_id": "cell-naivebayes_pred_test1",
     "locked": true,
     "points": 1,
     "schema_version": 1,
     "solution": false
    }
   },
   "outputs": [],
   "source": [
    "# Autograder test cell- worth 1 point\n",
    "# runs naivebayes_pred_test1"
   ]
  },
  {
   "cell_type": "code",
   "execution_count": 70,
   "metadata": {
    "deletable": false,
    "editable": false,
    "nbgrader": {
     "checksum": "47df06eb51601212785441e07776cb7f",
     "grade": true,
     "grade_id": "cell-naivebayes_pred_test2",
     "locked": true,
     "points": 1,
     "schema_version": 1,
     "solution": false
    }
   },
   "outputs": [],
   "source": [
    "# Autograder test cell- worth 1 point\n",
    "# runs naivebayes_pred_test2"
   ]
  },
  {
   "cell_type": "code",
   "execution_count": 71,
   "metadata": {
    "deletable": false,
    "editable": false,
    "nbgrader": {
     "checksum": "824453cd4512ad1391e3d43e8358a5eb",
     "grade": true,
     "grade_id": "cell-naivebayes_pred_test3",
     "locked": true,
     "points": 1,
     "schema_version": 1,
     "solution": false
    }
   },
   "outputs": [],
   "source": [
    "# Autograder test cell- worth 1 points\n",
    "# runs naivebayes_pred_test3"
   ]
  },
  {
   "cell_type": "code",
   "execution_count": 72,
   "metadata": {
    "deletable": false,
    "editable": false,
    "nbgrader": {
     "checksum": "993f3027c13748e48c3b55803c3f874b",
     "grade": true,
     "grade_id": "cell-naivebayes_pred_test4",
     "locked": true,
     "points": 1,
     "schema_version": 1,
     "solution": false
    }
   },
   "outputs": [],
   "source": [
    "# Autograder test cell- worth 1 points\n",
    "# runs naivebayes_pred_test4"
   ]
  },
  {
   "cell_type": "markdown",
   "metadata": {
    "deletable": false,
    "editable": false,
    "nbgrader": {
     "checksum": "47abd4ba6ad4cb0f1c6446cd6c46afbd",
     "grade": false,
     "grade_id": "cell-d31d3867bef12ca7",
     "locked": true,
     "schema_version": 1,
     "solution": false
    }
   },
   "source": [
    "You can now test your code with the following interactive name classification script:"
   ]
  },
  {
   "cell_type": "code",
   "execution_count": null,
   "metadata": {},
   "outputs": [
    {
     "name": "stdout",
     "output_type": "stream",
     "text": [
      "Loading data ...\n",
      "Training classifier ...\n",
      " log_ratio [-3.18000515 -2.09836887  0.66794866 ...  1.99133144  4.04411171\n",
      "  0.41152419]\n",
      "pos_neg_log  0.0\n",
      " log_likelihood_ratio  [-3.18000515 -2.09836887  0.66794866 ...  1.99133144  4.04411171\n",
      "  0.41152419]\n",
      "Training error: 23.83%\n",
      "Please enter a baby name (press enter with empty box to stop prompt)>\n",
      "Roger\n",
      " log_ratio [3.12949309]\n",
      "pos_neg_log  0.0\n",
      " log_likelihood_ratio  [3.12949309]\n",
      "Roger, I am sure you are a baby boy.\n",
      "\n",
      "Please enter a baby name (press enter with empty box to stop prompt)>\n",
      "Andrea\n",
      " log_ratio [-1.61785412]\n",
      "pos_neg_log  0.0\n",
      " log_likelihood_ratio  [-1.61785412]\n",
      "Andrea, I am sure you are a baby girl.\n",
      "\n",
      "Please enter a baby name (press enter with empty box to stop prompt)>\n",
      "Paula\n",
      " log_ratio [-1.90177881]\n",
      "pos_neg_log  0.0\n",
      " log_likelihood_ratio  [-1.90177881]\n",
      "Paula, I am sure you are a baby girl.\n",
      "\n",
      "Please enter a baby name (press enter with empty box to stop prompt)>\n",
      "Paul\n",
      " log_ratio [2.56946658]\n",
      "pos_neg_log  0.0\n",
      " log_likelihood_ratio  [2.56946658]\n",
      "Paul, I am sure you are a baby boy.\n",
      "\n",
      "Please enter a baby name (press enter with empty box to stop prompt)>\n",
      "Joe\n",
      " log_ratio [-1.8072603]\n",
      "pos_neg_log  0.0\n",
      " log_likelihood_ratio  [-1.8072603]\n",
      "Joe, I am sure you are a baby girl.\n",
      "\n",
      "Please enter a baby name (press enter with empty box to stop prompt)>\n"
     ]
    }
   ],
   "source": [
    "DIMS = 128\n",
    "print('Loading data ...')\n",
    "X,Y = genTrainFeatures(DIMS)\n",
    "print('Training classifier ...')\n",
    "pos, neg = naivebayesPY(X, Y)\n",
    "posprob, negprob = naivebayesPXY(X, Y)\n",
    "error = np.mean(naivebayes_pred(pos, neg, posprob, negprob, X) != Y)\n",
    "print('Training error: %.2f%%' % (100 * error))\n",
    "\n",
    "while True:\n",
    "    print('Please enter a baby name (press enter with empty box to stop prompt)>')\n",
    "    yourname = input()\n",
    "    if len(yourname) < 1:\n",
    "        break\n",
    "    xtest = name2features(yourname,d=DIMS,LoadFile=False)\n",
    "    pred = naivebayes_pred(pos, neg, posprob, negprob, xtest)\n",
    "    if pred > 0:\n",
    "        print(\"%s, I am sure you are a baby boy.\\n\" % yourname)\n",
    "    else:\n",
    "        print(\"%s, I am sure you are a baby girl.\\n\" % yourname)"
   ]
  },
  {
   "cell_type": "markdown",
   "metadata": {
    "deletable": false,
    "editable": false
   },
   "source": [
    "## Challenge: Feature Extraction\n",
    "\n",
    "Let's test how well your Na&iuml;ve Bayes classifier performs on a secret test set. If you want to improve your classifier modify `name2features2` below. The automatic reader will use your Python script to extract features and train your classifier on the same names training set by calling the function with only one argument--the name of a file containing a list of names.  The given implementation is the same as the given `name2features` above.\n",
    "\n",
    "From your experience, what features of a baby name would be predictive of the baby being a boy or a girl? You might hypothesize that the _count of vowel sounds_ is indicative of a gender, in which case you could append binary feature `is_vowel_count_gt_1` (greater than 1) or `is_vowel_count_gt_2`, etc.. Ideally, you would want to add features that help your model catch those pesky misclassified cases that existing hash features did not catch. So, it helps to investigate the misclassified baby names first. You might also consider ignoring hash features and instead using 5-10 _amazing_ features that (maybe) give you very high accuracy on the test set. We do not know if such a set of features exists; it remains an open challenge."
   ]
  },
  {
   "cell_type": "code",
   "execution_count": 73,
   "metadata": {},
   "outputs": [],
   "source": [
    "def hashfeatures(baby, d, FIX):\n",
    "    \"\"\"\n",
    "    Input:\n",
    "        baby : a string representing the baby's name to be hashed\n",
    "        d: the number of dimensions to be in the feature vector\n",
    "        FIX: the number of chunks to extract and hash from each string\n",
    "        \n",
    "    Output:\n",
    "        v: a feature vector representing the input string\n",
    "    \"\"\"\n",
    "    v = np.zeros(d)\n",
    "    for m in range(1, FIX+1):\n",
    "        prefix = baby[:m] + \">\"\n",
    "        P = hash(prefix) % d\n",
    "        v[P] = 1\n",
    "        \n",
    "        suffix = \"<\" + baby[-m:]\n",
    "        S = hash(suffix) % d\n",
    "        v[S] = 1\n",
    "    return v\n",
    "\n",
    "def name2features2(filename, d=128, FIX=3, LoadFile=True):\n",
    "    \"\"\"\n",
    "    Output:\n",
    "        X : n feature vectors of dimension d, (nxd)\n",
    "    \"\"\"\n",
    "    # read in baby names\n",
    "    if LoadFile:\n",
    "        with open(filename, 'r') as f:\n",
    "            babynames = [x.rstrip() for x in f.readlines() if len(x) > 0]\n",
    "    else:\n",
    "        babynames = filename.split('\\n')\n",
    "    n = len(babynames)\n",
    "    X = np.zeros((n, d))\n",
    "    for i in range(n):\n",
    "        X[i,:] = hashfeatures(babynames[i], d, FIX)\n",
    "        \n",
    "    # YOUR CODE HERE\n",
    "    raise NotImplementedError()\n",
    "    return X"
   ]
  },
  {
   "cell_type": "code",
   "execution_count": 74,
   "metadata": {
    "deletable": false,
    "editable": false,
    "nbgrader": {
     "checksum": "c695128583171a2e74f4f37e6fb82451",
     "grade": true,
     "grade_id": "cell-competition_test",
     "locked": true,
     "points": 0,
     "schema_version": 1,
     "solution": false
    }
   },
   "outputs": [],
   "source": [
    "# Autograder test cell- competition"
   ]
  },
  {
   "cell_type": "markdown",
   "metadata": {},
   "source": []
  },
  {
   "cell_type": "markdown",
   "metadata": {
    "deletable": false
   },
   "source": [
    "(Hint: You should be able to get >80% accuracy just by changing some of the default arguments in the function. If you'd like to try something more sophisticated, you can add to `name2features2`)\n",
    "\n",
    "<h4>Credits</h4>\n",
    " The name classification idea originates from <a href=\"http://nickm.com\">Nick Montfort</a>."
   ]
  }
 ],
 "metadata": {
  "anaconda-cloud": {},
  "kernelspec": {
   "display_name": "Python 3",
   "language": "python",
   "name": "python3"
  },
  "language_info": {
   "codemirror_mode": {
    "name": "ipython",
    "version": 3
   },
   "file_extension": ".py",
   "mimetype": "text/x-python",
   "name": "python",
   "nbconvert_exporter": "python",
   "pygments_lexer": "ipython3",
   "version": "3.6.8"
  }
 },
 "nbformat": 4,
 "nbformat_minor": 4
}
